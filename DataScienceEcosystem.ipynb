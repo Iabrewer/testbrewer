{
 "cells": [
  {
   "cell_type": "markdown",
   "id": "c42a27d0-113a-40bb-bc71-32ef40ae5306",
   "metadata": {
    "tags": []
   },
   "source": [
    "# Data Science Tools and Ecosystem"
   ]
  },
  {
   "cell_type": "markdown",
   "id": "de2ae500-b5f4-448d-ab28-9172d8fd5809",
   "metadata": {},
   "source": [
    "In this notebook, Data Science Tools and Ecosystem are summarized."
   ]
  },
  {
   "cell_type": "markdown",
   "id": "defd255d-f9ac-4d95-8d70-35fa3879136e",
   "metadata": {
    "tags": []
   },
   "source": [
    "**Objectives:**"
   ]
  },
  {
   "cell_type": "markdown",
   "id": "49fbf987-08f2-4646-901e-b69d52f5bb11",
   "metadata": {},
   "source": [
    "* List popular DS languages\n",
    "* List popular FS libraries\n",
    "* List popular DS tools"
   ]
  },
  {
   "cell_type": "markdown",
   "id": "dd049563-fd79-49ad-af04-f6770f7c5277",
   "metadata": {
    "tags": []
   },
   "source": [
    "Some of the popular languages that Data Scientists use are:"
   ]
  },
  {
   "cell_type": "markdown",
   "id": "9c48ae44-6148-4aed-8e4f-a3a52d1d2a3a",
   "metadata": {
    "tags": []
   },
   "source": [
    "1. Python\n",
    "2. R\n",
    "3. SQL\n",
    "4. Scala"
   ]
  },
  {
   "cell_type": "markdown",
   "id": "51489dc2-3460-4020-8baa-de2320c5a3d9",
   "metadata": {},
   "source": [
    "Some of the commonly used libraries used by Data Scientists include:"
   ]
  },
  {
   "cell_type": "markdown",
   "id": "cd0e7a96-4d07-4a0e-bb85-6c4ce4a86cbc",
   "metadata": {},
   "source": [
    "1. Pandas\n",
    "2. NumPy\n",
    "3. Matplotlib\n",
    "4. Scikit-learn"
   ]
  },
  {
   "cell_type": "markdown",
   "id": "7032e6f1-8a1b-4705-a077-119f983d70ad",
   "metadata": {},
   "source": [
    "Data Science Tools"
   ]
  },
  {
   "cell_type": "markdown",
   "id": "83ae9008-7e0a-43d8-a30a-6aa1db1dbf52",
   "metadata": {},
   "source": [
    "1. Jupyter Notebook\n",
    "2. RStudio\n",
    "3. Visual Studio Code"
   ]
  },
  {
   "cell_type": "markdown",
   "id": "35accd1a-a332-4b22-b1cd-ebd7a5533bc6",
   "metadata": {},
   "source": [
    "### Below are a few examples of evaluating arithmetic expressions in Python"
   ]
  },
  {
   "cell_type": "code",
   "execution_count": 4,
   "id": "d21ab091-6bfe-4026-be18-3c95c0413495",
   "metadata": {
    "tags": []
   },
   "outputs": [
    {
     "data": {
      "text/plain": [
       "17"
      ]
     },
     "execution_count": 4,
     "metadata": {},
     "output_type": "execute_result"
    }
   ],
   "source": [
    "# This a simple arithmetic expression to mutiply then add integers\n",
    "(3*4)+5"
   ]
  },
  {
   "cell_type": "code",
   "execution_count": 5,
   "id": "82555251-4e80-437b-986a-e6a1a0eb2053",
   "metadata": {
    "tags": []
   },
   "outputs": [
    {
     "data": {
      "text/plain": [
       "3.3333333333333335"
      ]
     },
     "execution_count": 5,
     "metadata": {},
     "output_type": "execute_result"
    }
   ],
   "source": [
    "# This will convert 200 minutes to hours by diving by 60\n",
    "minutes = 200\n",
    "hours = minutes / 60\n",
    "hours"
   ]
  },
  {
   "cell_type": "markdown",
   "id": "c82c5b86-35fa-4a52-8e62-ee5831712e30",
   "metadata": {},
   "source": [
    "## Author\n",
    "Ivan Pivovarov"
   ]
  },
  {
   "cell_type": "code",
   "execution_count": null,
   "id": "efe5d9d4-2a41-4d2d-b37a-ff880d4223ae",
   "metadata": {},
   "outputs": [],
   "source": []
  }
 ],
 "metadata": {
  "kernelspec": {
   "display_name": "Python",
   "language": "python",
   "name": "conda-env-python-py"
  },
  "language_info": {
   "codemirror_mode": {
    "name": "ipython",
    "version": 3
   },
   "file_extension": ".py",
   "mimetype": "text/x-python",
   "name": "python",
   "nbconvert_exporter": "python",
   "pygments_lexer": "ipython3",
   "version": "3.7.12"
  }
 },
 "nbformat": 4,
 "nbformat_minor": 5
}
